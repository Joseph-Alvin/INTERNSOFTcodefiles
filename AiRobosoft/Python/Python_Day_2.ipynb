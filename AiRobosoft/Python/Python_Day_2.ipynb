{
  "cells": [
    {
      "cell_type": "markdown",
      "metadata": {
        "id": "GaRSbrYXIdvG"
      },
      "source": [
        "# Session 2 - Strings and list objects"
      ]
    },
    {
      "cell_type": "markdown",
      "metadata": {
        "id": "lS1Hb6AqIdvV"
      },
      "source": [
        "# Strings"
      ]
    },
    {
      "cell_type": "markdown",
      "metadata": {
        "id": "rXUUxH3BIdvW"
      },
      "source": [
        "Strings are used to record the text information such as name. In Python, Strings act as “Sequence” which means Python tracks every element in the String as a sequence. This is one of the important features of the Python language.\n",
        "\n",
        "For example, Python understands the string \"hello' to be a sequence of letters in a specific order which means the indexing technique to grab particular letters (like first letter or the last letter)."
      ]
    },
    {
      "cell_type": "markdown",
      "metadata": {
        "id": "GoOPHNHPIdvX"
      },
      "source": [
        "## Creating a String\n",
        "In Python, either single quote (‘) or double quotes (“) must be used while creating a string.\n",
        "\n",
        "    For example:"
      ]
    },
    {
      "cell_type": "code",
      "execution_count": 1,
      "metadata": {
        "colab": {
          "base_uri": "https://localhost:8080/",
          "height": 35
        },
        "id": "YktC1eB-IdvX",
        "outputId": "2b52c8cb-88a8-4a1a-af91-f4ef010c839a"
      },
      "outputs": [
        {
          "output_type": "execute_result",
          "data": {
            "text/plain": [
              "'hello'"
            ],
            "application/vnd.google.colaboratory.intrinsic+json": {
              "type": "string"
            }
          },
          "metadata": {},
          "execution_count": 1
        }
      ],
      "source": [
        "# Single word\n",
        "s='hello'\n",
        "s"
      ]
    },
    {
      "cell_type": "code",
      "execution_count": 2,
      "metadata": {
        "colab": {
          "base_uri": "https://localhost:8080/",
          "height": 35
        },
        "id": "QUwKE2V6IdvZ",
        "outputId": "adc28019-c2e4-4396-c52e-3611bb94da7b"
      },
      "outputs": [
        {
          "output_type": "execute_result",
          "data": {
            "text/plain": [
              "'This is also a string'"
            ],
            "application/vnd.google.colaboratory.intrinsic+json": {
              "type": "string"
            }
          },
          "metadata": {},
          "execution_count": 2
        }
      ],
      "source": [
        "# Entire phrase \n",
        "'This is also a string'"
      ]
    },
    {
      "cell_type": "code",
      "execution_count": 3,
      "metadata": {
        "colab": {
          "base_uri": "https://localhost:8080/",
          "height": 35
        },
        "id": "NJOiYibYIdva",
        "outputId": "b0277f6f-49ef-4427-d04e-b6bb4ef89cc2"
      },
      "outputs": [
        {
          "output_type": "execute_result",
          "data": {
            "text/plain": [
              "'String with double quotes'"
            ],
            "application/vnd.google.colaboratory.intrinsic+json": {
              "type": "string"
            }
          },
          "metadata": {},
          "execution_count": 3
        }
      ],
      "source": [
        "# We can also use double quote\n",
        "\"String with double quotes\""
      ]
    },
    {
      "cell_type": "code",
      "execution_count": 5,
      "metadata": {
        "colab": {
          "base_uri": "https://localhost:8080/",
          "height": 130
        },
        "id": "_n3cwmGEIdva",
        "outputId": "11b42c1b-fd70-4780-f7be-c8fb60c92dda"
      },
      "outputs": [
        {
          "output_type": "error",
          "ename": "SyntaxError",
          "evalue": "ignored",
          "traceback": [
            "\u001b[0;36m  File \u001b[0;32m\"<ipython-input-5-550bd0d27aa5>\"\u001b[0;36m, line \u001b[0;32m2\u001b[0m\n\u001b[0;31m    'I'm using single quotes, but will create an error''\u001b[0m\n\u001b[0m       ^\u001b[0m\n\u001b[0;31mSyntaxError\u001b[0m\u001b[0;31m:\u001b[0m invalid syntax\n"
          ]
        }
      ],
      "source": [
        "# Be careful with quotes!\n",
        "'I'm using single quotes, but will create an error''"
      ]
    },
    {
      "cell_type": "markdown",
      "metadata": {
        "id": "3yamMBYEIdvc"
      },
      "source": [
        "The above code results in an error as the text “I’m” stops the string. Here, a combination of single quotes and double quotes can be used to get the complete statement."
      ]
    },
    {
      "cell_type": "code",
      "execution_count": 6,
      "metadata": {
        "colab": {
          "base_uri": "https://localhost:8080/",
          "height": 35
        },
        "id": "phGfnsn5Idvc",
        "outputId": "2be95992-0a89-4d06-80bc-0b7cb7e8bc56"
      },
      "outputs": [
        {
          "output_type": "execute_result",
          "data": {
            "text/plain": [
              "\"I'm using single quotes, but will create an error\""
            ],
            "application/vnd.google.colaboratory.intrinsic+json": {
              "type": "string"
            }
          },
          "metadata": {},
          "execution_count": 6
        }
      ],
      "source": [
        "\"I'm using single quotes, but will create an error\""
      ]
    },
    {
      "cell_type": "markdown",
      "metadata": {
        "id": "rF8kmEtbIdvd"
      },
      "source": [
        "Now let's learn about printing strings!"
      ]
    },
    {
      "cell_type": "markdown",
      "metadata": {
        "id": "qum5FmPkIdvd"
      },
      "source": [
        "## Printing a String\n",
        "\n",
        "We can automatically display the output strings using Jupyter notebook with just a string in a cell. But,the correct way to display strings in your output is by using a print function."
      ]
    },
    {
      "cell_type": "code",
      "execution_count": 7,
      "metadata": {
        "colab": {
          "base_uri": "https://localhost:8080/",
          "height": 35
        },
        "id": "HoGtEbq3Idve",
        "outputId": "9e75ff51-4b65-4283-f716-83fa2d0f800a"
      },
      "outputs": [
        {
          "output_type": "execute_result",
          "data": {
            "text/plain": [
              "'Hello World'"
            ],
            "application/vnd.google.colaboratory.intrinsic+json": {
              "type": "string"
            }
          },
          "metadata": {},
          "execution_count": 7
        }
      ],
      "source": [
        "# We can simply declare a string\n",
        "'Hello World'"
      ]
    },
    {
      "cell_type": "code",
      "execution_count": 8,
      "metadata": {
        "colab": {
          "base_uri": "https://localhost:8080/",
          "height": 53
        },
        "id": "3XAI13uJIdve",
        "outputId": "cddbb3b8-b05a-45d5-8713-7509d4ca7e2a"
      },
      "outputs": [
        {
          "output_type": "stream",
          "name": "stdout",
          "text": [
            "Hello World 1\n"
          ]
        },
        {
          "output_type": "execute_result",
          "data": {
            "text/plain": [
              "'Hello World 2'"
            ],
            "application/vnd.google.colaboratory.intrinsic+json": {
              "type": "string"
            }
          },
          "metadata": {},
          "execution_count": 8
        }
      ],
      "source": [
        "# note that we can't output multiple strings this way\n",
        "print('Hello World 1')\n",
        "'Hello World 2'"
      ]
    },
    {
      "cell_type": "markdown",
      "metadata": {
        "id": "awN1XKYZIdvf"
      },
      "source": [
        "In Python 2, the output of the below code snippet is displayed using \"print\" statement as shown in the below syntax but the same syntax will throw error in Python 3."
      ]
    },
    {
      "cell_type": "code",
      "execution_count": 9,
      "metadata": {
        "colab": {
          "base_uri": "https://localhost:8080/",
          "height": 130
        },
        "id": "kbhVKgBuIdvf",
        "outputId": "ce6a2483-510f-448e-9f0c-176fb0da0050"
      },
      "outputs": [
        {
          "output_type": "error",
          "ename": "SyntaxError",
          "evalue": "ignored",
          "traceback": [
            "\u001b[0;36m  File \u001b[0;32m\"<ipython-input-9-bf9b653e6c47>\"\u001b[0;36m, line \u001b[0;32m1\u001b[0m\n\u001b[0;31m    print 'Hello World 1'\u001b[0m\n\u001b[0m          ^\u001b[0m\n\u001b[0;31mSyntaxError\u001b[0m\u001b[0;31m:\u001b[0m Missing parentheses in call to 'print'. Did you mean print('Hello World 1')?\n"
          ]
        }
      ],
      "source": [
        "print 'Hello World 1' \n",
        "print 'Hello World 2'"
      ]
    },
    {
      "cell_type": "markdown",
      "metadata": {
        "collapsed": true,
        "id": "VZk4LS9lIdvf"
      },
      "source": [
        "### <font color='red'>Python 3 Alert!</font>"
      ]
    },
    {
      "cell_type": "markdown",
      "metadata": {
        "id": "6OKnur8YIdvf"
      },
      "source": [
        "Note that, In Python 3, print is a function and not a statement. So you would print statements like this:\n",
        "print('Hello World')\n",
        "\n",
        "If you want to use this functionality in Python2, you can import form the __future__ module. \n",
        "\n",
        "**Caution: After importing this; you won't be able to choose the print statement method anymore. So pick the right one whichever  you prefer depending on your Python installation and continue on with it.**"
      ]
    },
    {
      "cell_type": "code",
      "execution_count": 10,
      "metadata": {
        "colab": {
          "base_uri": "https://localhost:8080/",
          "height": 130
        },
        "id": "Xu_1MiuaIdvg",
        "outputId": "2a8c8a27-1779-42fc-d35c-655f89090009"
      },
      "outputs": [
        {
          "output_type": "error",
          "ename": "SyntaxError",
          "evalue": "ignored",
          "traceback": [
            "\u001b[0;36m  File \u001b[0;32m\"<ipython-input-10-ad8b671c5534>\"\u001b[0;36m, line \u001b[0;32m3\u001b[0m\n\u001b[0;31m    print 'Hello World'\u001b[0m\n\u001b[0m          ^\u001b[0m\n\u001b[0;31mSyntaxError\u001b[0m\u001b[0;31m:\u001b[0m Missing parentheses in call to 'print'. Did you mean print('Hello World')?\n"
          ]
        }
      ],
      "source": [
        "# To use print function from Python 3 in Python 2\n",
        "from __future__ import print_function\n",
        "print 'Hello World'"
      ]
    },
    {
      "cell_type": "markdown",
      "metadata": {
        "id": "ymjPNPkQIdvg"
      },
      "source": [
        "## String Basics"
      ]
    },
    {
      "cell_type": "markdown",
      "metadata": {
        "id": "d_E7CI3AIdvh"
      },
      "source": [
        "In Strings, the length of the string can be found out by using a function called len()."
      ]
    },
    {
      "cell_type": "code",
      "execution_count": 11,
      "metadata": {
        "colab": {
          "base_uri": "https://localhost:8080/"
        },
        "id": "tqmE0FUNIdvh",
        "outputId": "2eb163a6-9e18-420a-991a-67d58f2ec01e"
      },
      "outputs": [
        {
          "output_type": "execute_result",
          "data": {
            "text/plain": [
              "11"
            ]
          },
          "metadata": {},
          "execution_count": 11
        }
      ],
      "source": [
        "len('Hello World')"
      ]
    },
    {
      "cell_type": "markdown",
      "metadata": {
        "id": "ilF1Huo0Idvh"
      },
      "source": [
        "## String Indexing\n",
        "We know strings are a sequence, which means Python can use indexes to call all the sequence parts. Let's learn how String Indexing works.\n",
        "•\tWe use brackets [] after an object to call its index. \n",
        "•\tWe should also note that indexing starts at 0 for Python. \n",
        "Now, Let's create a new object called s and the walk through a few examples of indexing."
      ]
    },
    {
      "cell_type": "code",
      "execution_count": 12,
      "metadata": {
        "id": "hFrwT-RuIdvi"
      },
      "outputs": [],
      "source": [
        "# Assign s as a string\n",
        "s=\"Hello World\""
      ]
    },
    {
      "cell_type": "code",
      "execution_count": 13,
      "metadata": {
        "colab": {
          "base_uri": "https://localhost:8080/",
          "height": 35
        },
        "id": "yltrwxn-Idvi",
        "outputId": "7949a82e-9328-4437-8b4a-5fea9f49b779"
      },
      "outputs": [
        {
          "output_type": "execute_result",
          "data": {
            "text/plain": [
              "'Hello World'"
            ],
            "application/vnd.google.colaboratory.intrinsic+json": {
              "type": "string"
            }
          },
          "metadata": {},
          "execution_count": 13
        }
      ],
      "source": [
        "#Check\n",
        "s"
      ]
    },
    {
      "cell_type": "code",
      "execution_count": 14,
      "metadata": {
        "colab": {
          "base_uri": "https://localhost:8080/"
        },
        "id": "2HF4FFfgIdvi",
        "outputId": "3ea326dc-ba5b-46f7-c34d-9f13252eaa46"
      },
      "outputs": [
        {
          "output_type": "stream",
          "name": "stdout",
          "text": [
            "Hello World\n"
          ]
        }
      ],
      "source": [
        "# Print the object\n",
        "print(s)"
      ]
    },
    {
      "cell_type": "markdown",
      "metadata": {
        "id": "SQKVksJoIdvj"
      },
      "source": [
        "Let's start indexing!"
      ]
    },
    {
      "cell_type": "code",
      "execution_count": 15,
      "metadata": {
        "colab": {
          "base_uri": "https://localhost:8080/",
          "height": 35
        },
        "id": "noPv37UhIdvj",
        "outputId": "d1340e4e-9a3a-4877-92c5-06f749f7e468"
      },
      "outputs": [
        {
          "output_type": "execute_result",
          "data": {
            "text/plain": [
              "'H'"
            ],
            "application/vnd.google.colaboratory.intrinsic+json": {
              "type": "string"
            }
          },
          "metadata": {},
          "execution_count": 15
        }
      ],
      "source": [
        "# Show first element (in this case a letter)\n",
        "s[0]"
      ]
    },
    {
      "cell_type": "code",
      "execution_count": 16,
      "metadata": {
        "colab": {
          "base_uri": "https://localhost:8080/",
          "height": 35
        },
        "id": "eBBoGY90Idvj",
        "outputId": "d6afaabe-c791-431e-a1a5-42b3f0229808"
      },
      "outputs": [
        {
          "output_type": "execute_result",
          "data": {
            "text/plain": [
              "'e'"
            ],
            "application/vnd.google.colaboratory.intrinsic+json": {
              "type": "string"
            }
          },
          "metadata": {},
          "execution_count": 16
        }
      ],
      "source": [
        "s[1]"
      ]
    },
    {
      "cell_type": "code",
      "execution_count": 17,
      "metadata": {
        "colab": {
          "base_uri": "https://localhost:8080/",
          "height": 35
        },
        "id": "aaCMhbJyIdvj",
        "outputId": "431741aa-74d6-44ca-c2aa-da445fc112be"
      },
      "outputs": [
        {
          "output_type": "execute_result",
          "data": {
            "text/plain": [
              "'l'"
            ],
            "application/vnd.google.colaboratory.intrinsic+json": {
              "type": "string"
            }
          },
          "metadata": {},
          "execution_count": 17
        }
      ],
      "source": [
        "s[2]"
      ]
    },
    {
      "cell_type": "markdown",
      "metadata": {
        "id": "ZM2EklJ5Idvj"
      },
      "source": [
        "We can use a : to perform *slicing* which grabs everything up to a designated point. For example:"
      ]
    },
    {
      "cell_type": "code",
      "execution_count": 18,
      "metadata": {
        "colab": {
          "base_uri": "https://localhost:8080/",
          "height": 35
        },
        "id": "Q01gkwISIdvk",
        "outputId": "9824893e-cba2-4890-ae57-ccaff6a10d30"
      },
      "outputs": [
        {
          "output_type": "execute_result",
          "data": {
            "text/plain": [
              "'ello World'"
            ],
            "application/vnd.google.colaboratory.intrinsic+json": {
              "type": "string"
            }
          },
          "metadata": {},
          "execution_count": 18
        }
      ],
      "source": [
        "# Grab everything past the first term all the way to the length of s which is len(s)\n",
        "s[1:]"
      ]
    },
    {
      "cell_type": "code",
      "execution_count": 19,
      "metadata": {
        "colab": {
          "base_uri": "https://localhost:8080/",
          "height": 35
        },
        "id": "TmaUU1wwIdvk",
        "outputId": "9ef69686-3ba2-4016-d954-bb822c724574"
      },
      "outputs": [
        {
          "output_type": "execute_result",
          "data": {
            "text/plain": [
              "'Hello World'"
            ],
            "application/vnd.google.colaboratory.intrinsic+json": {
              "type": "string"
            }
          },
          "metadata": {},
          "execution_count": 19
        }
      ],
      "source": [
        "# Note that there is no change to the original s\n",
        "s"
      ]
    },
    {
      "cell_type": "code",
      "execution_count": 20,
      "metadata": {
        "colab": {
          "base_uri": "https://localhost:8080/",
          "height": 35
        },
        "id": "W1La1V2uIdvk",
        "outputId": "96b421c6-cd70-4214-9881-2c35c3883aa4"
      },
      "outputs": [
        {
          "output_type": "execute_result",
          "data": {
            "text/plain": [
              "'Hel'"
            ],
            "application/vnd.google.colaboratory.intrinsic+json": {
              "type": "string"
            }
          },
          "metadata": {},
          "execution_count": 20
        }
      ],
      "source": [
        "# Grab everything UP TO the 3rd index\n",
        "s[:3]"
      ]
    },
    {
      "cell_type": "markdown",
      "metadata": {
        "id": "1vPKo4pRIdvk"
      },
      "source": [
        "Note the above slicing. Here we're telling Python to grab everything from 0 up to 3. It doesn't include the 3rd index. You'll notice this a lot in Python, where statements and are usually in the context of \"up to, but not including\"."
      ]
    },
    {
      "cell_type": "code",
      "execution_count": 21,
      "metadata": {
        "colab": {
          "base_uri": "https://localhost:8080/",
          "height": 35
        },
        "id": "NbZedhq6Idvk",
        "outputId": "247cd2c7-d35e-4dcc-9ea0-df99baafc3c0"
      },
      "outputs": [
        {
          "output_type": "execute_result",
          "data": {
            "text/plain": [
              "'Hello World'"
            ],
            "application/vnd.google.colaboratory.intrinsic+json": {
              "type": "string"
            }
          },
          "metadata": {},
          "execution_count": 21
        }
      ],
      "source": [
        "#Everything\n",
        "s[:]"
      ]
    },
    {
      "cell_type": "markdown",
      "metadata": {
        "id": "1fvZ6BnAIdvl"
      },
      "source": [
        "We can also use negative indexing to go backwards."
      ]
    },
    {
      "cell_type": "code",
      "execution_count": 22,
      "metadata": {
        "colab": {
          "base_uri": "https://localhost:8080/",
          "height": 35
        },
        "id": "6QFHSMm9Idvl",
        "outputId": "8ca6bf1f-1921-4238-e32b-74a1673646ea"
      },
      "outputs": [
        {
          "output_type": "execute_result",
          "data": {
            "text/plain": [
              "'d'"
            ],
            "application/vnd.google.colaboratory.intrinsic+json": {
              "type": "string"
            }
          },
          "metadata": {},
          "execution_count": 22
        }
      ],
      "source": [
        "# Last letter (one index behind 0 so it loops back around)\n",
        "s[-1]"
      ]
    },
    {
      "cell_type": "code",
      "execution_count": 23,
      "metadata": {
        "colab": {
          "base_uri": "https://localhost:8080/",
          "height": 35
        },
        "id": "Zl1gk6wWIdvm",
        "outputId": "74e8bac0-5005-4608-ff96-c6e78054be33"
      },
      "outputs": [
        {
          "output_type": "execute_result",
          "data": {
            "text/plain": [
              "'Hello Worl'"
            ],
            "application/vnd.google.colaboratory.intrinsic+json": {
              "type": "string"
            }
          },
          "metadata": {},
          "execution_count": 23
        }
      ],
      "source": [
        "# Grab everything but the last letter\n",
        "s[:-1]"
      ]
    },
    {
      "cell_type": "markdown",
      "metadata": {
        "id": "Du2Kp2sPIdvm"
      },
      "source": [
        "Index and slice notation is used to grab elements of a sequenec by a specified step size (where in 1 is the default size). For instance we can use two colons in a row and then a number specifying the frequency to grab elements. For example:"
      ]
    },
    {
      "cell_type": "code",
      "execution_count": 24,
      "metadata": {
        "colab": {
          "base_uri": "https://localhost:8080/",
          "height": 35
        },
        "id": "7M_AKBkmIdvm",
        "outputId": "e2c335cb-8688-445f-f82c-0573dc3d1450"
      },
      "outputs": [
        {
          "output_type": "execute_result",
          "data": {
            "text/plain": [
              "'Hello World'"
            ],
            "application/vnd.google.colaboratory.intrinsic+json": {
              "type": "string"
            }
          },
          "metadata": {},
          "execution_count": 24
        }
      ],
      "source": [
        "# Grab everything, but go in steps size of 1\n",
        "s[::1]"
      ]
    },
    {
      "cell_type": "code",
      "execution_count": 25,
      "metadata": {
        "colab": {
          "base_uri": "https://localhost:8080/",
          "height": 35
        },
        "id": "O0ERBggRIdvm",
        "outputId": "170e162d-0174-4737-a4ea-edb4c49e7540"
      },
      "outputs": [
        {
          "output_type": "execute_result",
          "data": {
            "text/plain": [
              "'HloWrd'"
            ],
            "application/vnd.google.colaboratory.intrinsic+json": {
              "type": "string"
            }
          },
          "metadata": {},
          "execution_count": 25
        }
      ],
      "source": [
        "# Grab everything, but go in step sizes of 2\n",
        "s[::2]"
      ]
    },
    {
      "cell_type": "code",
      "execution_count": 26,
      "metadata": {
        "colab": {
          "base_uri": "https://localhost:8080/",
          "height": 35
        },
        "id": "YU2Eom8oIdvn",
        "outputId": "4a9b8eb9-0449-43e2-ee24-5fc4029126ce"
      },
      "outputs": [
        {
          "output_type": "execute_result",
          "data": {
            "text/plain": [
              "'dlroW olleH'"
            ],
            "application/vnd.google.colaboratory.intrinsic+json": {
              "type": "string"
            }
          },
          "metadata": {},
          "execution_count": 26
        }
      ],
      "source": [
        "# We can use this to print a string backwards\n",
        "s[::-1]"
      ]
    },
    {
      "cell_type": "markdown",
      "metadata": {
        "collapsed": true,
        "id": "yyyj-FFIIdvn"
      },
      "source": [
        "## String Properties\n",
        "\n",
        "Immutability is one the finest string property whichh is created once and the elements within it cannot be changed or replaced. For example:"
      ]
    },
    {
      "cell_type": "code",
      "execution_count": 27,
      "metadata": {
        "colab": {
          "base_uri": "https://localhost:8080/",
          "height": 35
        },
        "id": "CFRIKBDsIdvn",
        "outputId": "47b8f9a6-17bc-482c-fb8e-fcda5ec096eb"
      },
      "outputs": [
        {
          "output_type": "execute_result",
          "data": {
            "text/plain": [
              "'Hello World'"
            ],
            "application/vnd.google.colaboratory.intrinsic+json": {
              "type": "string"
            }
          },
          "metadata": {},
          "execution_count": 27
        }
      ],
      "source": [
        "s"
      ]
    },
    {
      "cell_type": "code",
      "execution_count": 28,
      "metadata": {
        "colab": {
          "base_uri": "https://localhost:8080/",
          "height": 183
        },
        "id": "EfCvacGWIdvn",
        "outputId": "cc956b69-0fde-41a5-80d1-217d6eeb427e"
      },
      "outputs": [
        {
          "output_type": "error",
          "ename": "TypeError",
          "evalue": "ignored",
          "traceback": [
            "\u001b[0;31m---------------------------------------------------------------------------\u001b[0m",
            "\u001b[0;31mTypeError\u001b[0m                                 Traceback (most recent call last)",
            "\u001b[0;32m<ipython-input-28-846579400c99>\u001b[0m in \u001b[0;36m<cell line: 2>\u001b[0;34m()\u001b[0m\n\u001b[1;32m      1\u001b[0m \u001b[0;31m# Let's try to change the first letter to 'x'\u001b[0m\u001b[0;34m\u001b[0m\u001b[0;34m\u001b[0m\u001b[0m\n\u001b[0;32m----> 2\u001b[0;31m \u001b[0ms\u001b[0m\u001b[0;34m[\u001b[0m\u001b[0;36m0\u001b[0m\u001b[0;34m]\u001b[0m\u001b[0;34m=\u001b[0m\u001b[0;34m'x'\u001b[0m\u001b[0;34m\u001b[0m\u001b[0;34m\u001b[0m\u001b[0m\n\u001b[0m",
            "\u001b[0;31mTypeError\u001b[0m: 'str' object does not support item assignment"
          ]
        }
      ],
      "source": [
        "# Let's try to change the first letter to 'x'\n",
        "s[0]='x'"
      ]
    },
    {
      "cell_type": "markdown",
      "metadata": {
        "id": "Iq5_ROTZIdvn"
      },
      "source": [
        "Notice how the error tells us directly what we can't do, change the item assignment!\n",
        "\n",
        "Something we can do is concatenate strings!"
      ]
    },
    {
      "cell_type": "code",
      "execution_count": 29,
      "metadata": {
        "colab": {
          "base_uri": "https://localhost:8080/",
          "height": 35
        },
        "id": "Jz2imU8dIdvo",
        "outputId": "2dfb5377-66e7-4fc0-f712-af0a6508fed4"
      },
      "outputs": [
        {
          "output_type": "execute_result",
          "data": {
            "text/plain": [
              "'Hello World'"
            ],
            "application/vnd.google.colaboratory.intrinsic+json": {
              "type": "string"
            }
          },
          "metadata": {},
          "execution_count": 29
        }
      ],
      "source": [
        "s"
      ]
    },
    {
      "cell_type": "code",
      "execution_count": 30,
      "metadata": {
        "colab": {
          "base_uri": "https://localhost:8080/",
          "height": 35
        },
        "id": "1EtiItZIIdvo",
        "outputId": "31b9e480-698f-46d1-8032-bf705b9d3f52"
      },
      "outputs": [
        {
          "output_type": "execute_result",
          "data": {
            "text/plain": [
              "'Hello World concatenate me!'"
            ],
            "application/vnd.google.colaboratory.intrinsic+json": {
              "type": "string"
            }
          },
          "metadata": {},
          "execution_count": 30
        }
      ],
      "source": [
        "# Concatenate strings!\n",
        "s+' concatenate me!'"
      ]
    },
    {
      "cell_type": "code",
      "execution_count": 31,
      "metadata": {
        "id": "97Df3tsJIdvo"
      },
      "outputs": [],
      "source": [
        "# We can reassign s completely though!\n",
        "s=s+' concatenate me!'"
      ]
    },
    {
      "cell_type": "code",
      "execution_count": 32,
      "metadata": {
        "colab": {
          "base_uri": "https://localhost:8080/"
        },
        "id": "g8-EhKt3Idvo",
        "outputId": "9bd75ee6-701e-48fa-eae6-b0ed0811d597"
      },
      "outputs": [
        {
          "output_type": "stream",
          "name": "stdout",
          "text": [
            "Hello World concatenate me!\n"
          ]
        }
      ],
      "source": [
        "print(s)"
      ]
    },
    {
      "cell_type": "code",
      "execution_count": 33,
      "metadata": {
        "colab": {
          "base_uri": "https://localhost:8080/",
          "height": 35
        },
        "id": "kUJWFtw3Idvo",
        "outputId": "7916857f-f804-47be-d305-8b5442e78343"
      },
      "outputs": [
        {
          "output_type": "execute_result",
          "data": {
            "text/plain": [
              "'Hello World concatenate me!'"
            ],
            "application/vnd.google.colaboratory.intrinsic+json": {
              "type": "string"
            }
          },
          "metadata": {},
          "execution_count": 33
        }
      ],
      "source": [
        "s"
      ]
    },
    {
      "cell_type": "markdown",
      "metadata": {
        "id": "vJ8Pyv9_Idvo"
      },
      "source": [
        "We can use the multiplication symbol to create repetition!"
      ]
    },
    {
      "cell_type": "code",
      "execution_count": 34,
      "metadata": {
        "id": "ZXOfdhmJIdvp"
      },
      "outputs": [],
      "source": [
        "letter='z'"
      ]
    },
    {
      "cell_type": "code",
      "execution_count": 35,
      "metadata": {
        "colab": {
          "base_uri": "https://localhost:8080/",
          "height": 35
        },
        "id": "cb6qiYSjIdvp",
        "outputId": "47dea31a-2db3-43c3-e8c3-0102cdbe0706"
      },
      "outputs": [
        {
          "output_type": "execute_result",
          "data": {
            "text/plain": [
              "'zzzzzzzzzz'"
            ],
            "application/vnd.google.colaboratory.intrinsic+json": {
              "type": "string"
            }
          },
          "metadata": {},
          "execution_count": 35
        }
      ],
      "source": [
        "letter*10"
      ]
    },
    {
      "cell_type": "markdown",
      "metadata": {
        "id": "LM4-NNN8Idvp"
      },
      "source": [
        "## Basic Built-in String methods\n",
        "\n",
        "In Python, Objects have built-in methods which means these methods are functions present inside the object (we will learn about these in much more depth later) that can perform actions or commands on the object itself.\n",
        "\n",
        "Methods can be called with a period followed by the method name. Methods are in the form:\n",
        "\n",
        "object.method(parameters)\n",
        "\n",
        "Where parameters are extra arguments which are passed into the method. Right now, it is not necessary to make 100% sense but going forward we will create our own objects and functions. \n",
        "\n",
        "Here are some examples of built-in methods in strings:"
      ]
    },
    {
      "cell_type": "code",
      "execution_count": 36,
      "metadata": {
        "colab": {
          "base_uri": "https://localhost:8080/",
          "height": 35
        },
        "id": "GpEtZHTNIdvp",
        "outputId": "d6f7c822-a82f-4d91-967d-0e3204a3a00a"
      },
      "outputs": [
        {
          "output_type": "execute_result",
          "data": {
            "text/plain": [
              "'Hello World concatenate me!'"
            ],
            "application/vnd.google.colaboratory.intrinsic+json": {
              "type": "string"
            }
          },
          "metadata": {},
          "execution_count": 36
        }
      ],
      "source": [
        "s"
      ]
    },
    {
      "cell_type": "code",
      "execution_count": 37,
      "metadata": {
        "colab": {
          "base_uri": "https://localhost:8080/",
          "height": 35
        },
        "id": "lrgynw8HIdvp",
        "outputId": "e2374d3c-19fa-46e1-8497-500eb7243e85"
      },
      "outputs": [
        {
          "output_type": "execute_result",
          "data": {
            "text/plain": [
              "'HELLO WORLD CONCATENATE ME!'"
            ],
            "application/vnd.google.colaboratory.intrinsic+json": {
              "type": "string"
            }
          },
          "metadata": {},
          "execution_count": 37
        }
      ],
      "source": [
        "# Upper Case a string\n",
        "s.upper()"
      ]
    },
    {
      "cell_type": "code",
      "execution_count": 38,
      "metadata": {
        "colab": {
          "base_uri": "https://localhost:8080/",
          "height": 35
        },
        "id": "tDgztSCrIdvp",
        "outputId": "ed7e1909-a0be-4d30-ba6c-418b3212b530"
      },
      "outputs": [
        {
          "output_type": "execute_result",
          "data": {
            "text/plain": [
              "'hello world concatenate me!'"
            ],
            "application/vnd.google.colaboratory.intrinsic+json": {
              "type": "string"
            }
          },
          "metadata": {},
          "execution_count": 38
        }
      ],
      "source": [
        "# Lower case\n",
        "s.lower()"
      ]
    },
    {
      "cell_type": "code",
      "execution_count": 39,
      "metadata": {
        "colab": {
          "base_uri": "https://localhost:8080/"
        },
        "id": "jy1FMQTYIdvq",
        "outputId": "917d54f2-e3d7-40d4-af2f-1e4a66ffeb09"
      },
      "outputs": [
        {
          "output_type": "execute_result",
          "data": {
            "text/plain": [
              "['Hello', 'World', 'concatenate', 'me!']"
            ]
          },
          "metadata": {},
          "execution_count": 39
        }
      ],
      "source": [
        "# Split a string by blank space (this is the default)\n",
        "s.split()"
      ]
    },
    {
      "cell_type": "code",
      "execution_count": 40,
      "metadata": {
        "colab": {
          "base_uri": "https://localhost:8080/"
        },
        "id": "tA1K7sk9Idvq",
        "outputId": "d950c144-fb2b-485f-b954-2510b054ad2b"
      },
      "outputs": [
        {
          "output_type": "execute_result",
          "data": {
            "text/plain": [
              "['Hell', ' W', 'rld c', 'ncatenate me!']"
            ]
          },
          "metadata": {},
          "execution_count": 40
        }
      ],
      "source": [
        "# Split by a specific element (doesn't include the element that was split on)\n",
        "s.split('o')"
      ]
    },
    {
      "cell_type": "markdown",
      "metadata": {
        "id": "4ny7b-t7Idvq"
      },
      "source": [
        "There are many more methods than the ones covered here. To know more about the String functions, Visit the advanced String section."
      ]
    },
    {
      "cell_type": "markdown",
      "metadata": {
        "id": "Jx6rNMAAIdvq"
      },
      "source": [
        "## Print Formatting\n",
        "\n",
        "Print Formatting \".format()\" method is used to add formatted objects to the printed string statements. \n",
        "\n",
        "Let's see an example to clearly understand the concept. "
      ]
    },
    {
      "cell_type": "code",
      "execution_count": 41,
      "metadata": {
        "scrolled": true,
        "colab": {
          "base_uri": "https://localhost:8080/",
          "height": 35
        },
        "id": "zcJZCUFIIdvq",
        "outputId": "eb6cf34b-e8cf-429e-da25-854bd8f4031d"
      },
      "outputs": [
        {
          "output_type": "execute_result",
          "data": {
            "text/plain": [
              "\"Insert another string with curly brackets: {'The inserted string'}\""
            ],
            "application/vnd.google.colaboratory.intrinsic+json": {
              "type": "string"
            }
          },
          "metadata": {},
          "execution_count": 41
        }
      ],
      "source": [
        "'Insert another string with curly brackets: {}'.format({'The inserted string'})"
      ]
    },
    {
      "cell_type": "markdown",
      "metadata": {
        "id": "zlW3C2O4Idvq"
      },
      "source": [
        "## Location and Counting"
      ]
    },
    {
      "cell_type": "code",
      "execution_count": 42,
      "metadata": {
        "colab": {
          "base_uri": "https://localhost:8080/"
        },
        "id": "PKD9sdqBIdvr",
        "outputId": "396f2882-139f-4411-81f3-d243f064623c"
      },
      "outputs": [
        {
          "output_type": "stream",
          "name": "stdout",
          "text": [
            "Hello World concatenate me!\n"
          ]
        },
        {
          "output_type": "execute_result",
          "data": {
            "text/plain": [
              "3"
            ]
          },
          "metadata": {},
          "execution_count": 42
        }
      ],
      "source": [
        "print(s)\n",
        "s.count('o')"
      ]
    },
    {
      "cell_type": "code",
      "execution_count": 43,
      "metadata": {
        "colab": {
          "base_uri": "https://localhost:8080/"
        },
        "id": "T-7DKm0tIdvr",
        "outputId": "7eadb7bf-7e24-4264-e6b4-789d6bb50d7b"
      },
      "outputs": [
        {
          "output_type": "execute_result",
          "data": {
            "text/plain": [
              "4"
            ]
          },
          "metadata": {},
          "execution_count": 43
        }
      ],
      "source": [
        "s.find('o')"
      ]
    },
    {
      "cell_type": "markdown",
      "metadata": {
        "id": "RCXGzGYNIdvr"
      },
      "source": [
        "##Formatting\n",
        "The center() method allows you to place your string 'centered' between a provided string with a certain length. "
      ]
    },
    {
      "cell_type": "code",
      "execution_count": 44,
      "metadata": {
        "colab": {
          "base_uri": "https://localhost:8080/",
          "height": 35
        },
        "id": "LdNswPv4Idvs",
        "outputId": "7bb10d2b-634b-4610-956d-5231988295a0"
      },
      "outputs": [
        {
          "output_type": "execute_result",
          "data": {
            "text/plain": [
              "'zzzzzzHello World concatenate me!zzzzzzz'"
            ],
            "application/vnd.google.colaboratory.intrinsic+json": {
              "type": "string"
            }
          },
          "metadata": {},
          "execution_count": 44
        }
      ],
      "source": [
        "s.center(40, 'z')"
      ]
    },
    {
      "cell_type": "markdown",
      "metadata": {
        "id": "yoY5iNUyIdvt"
      },
      "source": [
        "expandtabs() will expand tab notations \\t into spaces. Let's see an example to understand the concept."
      ]
    },
    {
      "cell_type": "code",
      "execution_count": 48,
      "metadata": {
        "colab": {
          "base_uri": "https://localhost:8080/",
          "height": 35
        },
        "id": "5IPdA6h5Idvu",
        "outputId": "8814b8df-8811-4431-a782-597f1db00171"
      },
      "outputs": [
        {
          "output_type": "execute_result",
          "data": {
            "text/plain": [
              "'hello   hi'"
            ],
            "application/vnd.google.colaboratory.intrinsic+json": {
              "type": "string"
            }
          },
          "metadata": {},
          "execution_count": 48
        }
      ],
      "source": [
        "'hello\\thi'.expandtabs()"
      ]
    },
    {
      "cell_type": "markdown",
      "metadata": {
        "id": "tN08abeyIdvu"
      },
      "source": [
        "## is check methods\n",
        "These various methods below check it the string is some case. Lets explore them:"
      ]
    },
    {
      "cell_type": "code",
      "execution_count": 49,
      "metadata": {
        "id": "YbKUXgfmIdvu"
      },
      "outputs": [],
      "source": [
        "s='hello'"
      ]
    },
    {
      "cell_type": "markdown",
      "metadata": {
        "id": "iMkJ4hXOIdvu"
      },
      "source": [
        "isalnum() will return \"True\" if all characters in S are alphanumeric."
      ]
    },
    {
      "cell_type": "code",
      "execution_count": 50,
      "metadata": {
        "colab": {
          "base_uri": "https://localhost:8080/"
        },
        "id": "i0MsbvxzIdvv",
        "outputId": "ead82933-062a-4a59-abf8-c6cfe161a87f"
      },
      "outputs": [
        {
          "output_type": "execute_result",
          "data": {
            "text/plain": [
              "True"
            ]
          },
          "metadata": {},
          "execution_count": 50
        }
      ],
      "source": [
        "s.isalnum()"
      ]
    },
    {
      "cell_type": "markdown",
      "metadata": {
        "id": "ODtUvSWdIdvv"
      },
      "source": [
        "isalpha() wil return \"True\" if all characters in S are alphabetic."
      ]
    },
    {
      "cell_type": "code",
      "execution_count": 51,
      "metadata": {
        "colab": {
          "base_uri": "https://localhost:8080/"
        },
        "id": "mkyldFKUIdvv",
        "outputId": "e7105cb0-aba8-4f0e-b73f-35da8e0f7fc8"
      },
      "outputs": [
        {
          "output_type": "execute_result",
          "data": {
            "text/plain": [
              "True"
            ]
          },
          "metadata": {},
          "execution_count": 51
        }
      ],
      "source": [
        "s.isalpha()"
      ]
    },
    {
      "cell_type": "markdown",
      "metadata": {
        "id": "ZRYs2pO2Idvv"
      },
      "source": [
        "islower() will return \"True\" if all cased characters in S are lowercase and there is\n",
        "at least one cased character in S, False otherwise."
      ]
    },
    {
      "cell_type": "code",
      "execution_count": 55,
      "metadata": {
        "colab": {
          "base_uri": "https://localhost:8080/"
        },
        "id": "BTwKnPDAIdvv",
        "outputId": "0fd6f5cf-e270-4fea-fd42-c39855c1b4a6"
      },
      "outputs": [
        {
          "output_type": "execute_result",
          "data": {
            "text/plain": [
              "True"
            ]
          },
          "metadata": {},
          "execution_count": 55
        }
      ],
      "source": [
        "s.islower()"
      ]
    },
    {
      "cell_type": "markdown",
      "metadata": {
        "id": "oce7AZJgIdvv"
      },
      "source": [
        "isspace() will return \"True\" if all characters in S are whitespace."
      ]
    },
    {
      "cell_type": "code",
      "execution_count": 56,
      "metadata": {
        "colab": {
          "base_uri": "https://localhost:8080/"
        },
        "id": "x-rmfDcaIdvw",
        "outputId": "0fb2b005-150f-4aa4-8f41-92ba325a5253"
      },
      "outputs": [
        {
          "output_type": "execute_result",
          "data": {
            "text/plain": [
              "False"
            ]
          },
          "metadata": {},
          "execution_count": 56
        }
      ],
      "source": [
        "s.isspace()"
      ]
    },
    {
      "cell_type": "markdown",
      "metadata": {
        "id": "EKSBAc5xIdvw"
      },
      "source": [
        "istitle() will return \"True\" if S is a title cased string and there is at least one character in S, i.e. uppercase characters may only follow uncased characters and lowercase characters only cased ones. Return False otherwise."
      ]
    },
    {
      "cell_type": "code",
      "execution_count": 57,
      "metadata": {
        "colab": {
          "base_uri": "https://localhost:8080/"
        },
        "id": "nrZkj93eIdvw",
        "outputId": "80e2c6f7-f36a-49f5-c43b-aba819cda648"
      },
      "outputs": [
        {
          "output_type": "execute_result",
          "data": {
            "text/plain": [
              "False"
            ]
          },
          "metadata": {},
          "execution_count": 57
        }
      ],
      "source": [
        "s.istitle()"
      ]
    },
    {
      "cell_type": "markdown",
      "metadata": {
        "id": "SMJ60u88Idvw"
      },
      "source": [
        "isupper() will return \"True\" if all cased characters in S are uppercase and there is\n",
        "at least one cased character in S, False otherwise."
      ]
    },
    {
      "cell_type": "code",
      "execution_count": 58,
      "metadata": {
        "colab": {
          "base_uri": "https://localhost:8080/"
        },
        "id": "LQToK28wIdvw",
        "outputId": "18e820d1-7798-4eb6-b802-d15f899d4f54"
      },
      "outputs": [
        {
          "output_type": "execute_result",
          "data": {
            "text/plain": [
              "False"
            ]
          },
          "metadata": {},
          "execution_count": 58
        }
      ],
      "source": [
        "s.isupper()"
      ]
    },
    {
      "cell_type": "markdown",
      "metadata": {
        "id": "Vf2L_7KVIdvw"
      },
      "source": [
        "Another method is endswith() which is essentially same as a boolean check on s[-1]"
      ]
    },
    {
      "cell_type": "code",
      "execution_count": 59,
      "metadata": {
        "colab": {
          "base_uri": "https://localhost:8080/"
        },
        "id": "Iq28xMQhIdvw",
        "outputId": "202e2187-3669-4001-e770-32f5e971a972"
      },
      "outputs": [
        {
          "output_type": "execute_result",
          "data": {
            "text/plain": [
              "True"
            ]
          },
          "metadata": {},
          "execution_count": 59
        }
      ],
      "source": [
        "s.endswith('o')"
      ]
    },
    {
      "cell_type": "markdown",
      "metadata": {
        "id": "MGXui7taIdvx"
      },
      "source": [
        "## Built-in Reg. Expressions\n",
        "\n",
        "In Strings, there are some built-in methods which is similar to regular expression operations.\n",
        "•\tSplit() function is used to split the string at a certain element and return a list of the result.\n",
        "•\tPartition is used to return a tuple that includes the separator (the first occurrence), the first half and the end half."
      ]
    },
    {
      "cell_type": "code",
      "execution_count": 60,
      "metadata": {
        "colab": {
          "base_uri": "https://localhost:8080/"
        },
        "id": "ehcXj12DIdvx",
        "outputId": "3cebea76-8a69-4363-e008-caebb9845db6"
      },
      "outputs": [
        {
          "output_type": "execute_result",
          "data": {
            "text/plain": [
              "['h', 'llo']"
            ]
          },
          "metadata": {},
          "execution_count": 60
        }
      ],
      "source": [
        "s.split('e')"
      ]
    },
    {
      "cell_type": "code",
      "execution_count": 63,
      "metadata": {
        "colab": {
          "base_uri": "https://localhost:8080/"
        },
        "id": "OEXrOCieIdvx",
        "outputId": "c4e21f03-5a06-40fb-98ea-c7febd8450a2"
      },
      "outputs": [
        {
          "output_type": "execute_result",
          "data": {
            "text/plain": [
              "('h', 'e', 'llo')"
            ]
          },
          "metadata": {},
          "execution_count": 63
        }
      ],
      "source": [
        "s.partition('e')"
      ]
    },
    {
      "cell_type": "code",
      "execution_count": 64,
      "metadata": {
        "colab": {
          "base_uri": "https://localhost:8080/",
          "height": 35
        },
        "id": "XlaZsLIrIdvx",
        "outputId": "709996b4-a1a0-4b33-dea3-55e61fef7cfd"
      },
      "outputs": [
        {
          "output_type": "execute_result",
          "data": {
            "text/plain": [
              "'hello'"
            ],
            "application/vnd.google.colaboratory.intrinsic+json": {
              "type": "string"
            }
          },
          "metadata": {},
          "execution_count": 64
        }
      ],
      "source": [
        "s"
      ]
    },
    {
      "cell_type": "markdown",
      "metadata": {
        "id": "OONxeue1Idvx"
      },
      "source": [
        "# Lists\n",
        "\n",
        "Earlier, while discussing introduction to strings we have introduced the concept of a *sequence* in Python. In Python, Lists can be considered as the most general version of a \"sequence\". Unlike strings, they are mutable which means the elements inside a list can be changed!\n",
        "\n",
        "Lists are constructed with brackets [] and commas separating every element in the list.\n",
        "\n",
        "Let's go ahead and see how we can construct lists!"
      ]
    },
    {
      "cell_type": "code",
      "execution_count": 65,
      "metadata": {
        "id": "Fd5tr-fFIdvx"
      },
      "outputs": [],
      "source": [
        "# Assign a list to an variable named my_list\n",
        "l=[1,2,3]"
      ]
    },
    {
      "cell_type": "markdown",
      "metadata": {
        "id": "SKu6FYczIdvx"
      },
      "source": [
        "We just created a list of integers, but lists can actually hold different object types. For example:"
      ]
    },
    {
      "cell_type": "code",
      "execution_count": 66,
      "metadata": {
        "colab": {
          "base_uri": "https://localhost:8080/"
        },
        "id": "ygXo53ZkIdvy",
        "outputId": "9a8d271a-21c2-4595-eff5-e835d515df08"
      },
      "outputs": [
        {
          "output_type": "execute_result",
          "data": {
            "text/plain": [
              "['A string', 23, 100.25, 'o']"
            ]
          },
          "metadata": {},
          "execution_count": 66
        }
      ],
      "source": [
        "l=['A string',23,100.25,'o']\n",
        "l"
      ]
    },
    {
      "cell_type": "markdown",
      "metadata": {
        "id": "9C-ovtPrIdvy"
      },
      "source": [
        "Just like strings, the len() function will tell you how many items are in the sequence of the list."
      ]
    },
    {
      "cell_type": "code",
      "execution_count": 67,
      "metadata": {
        "colab": {
          "base_uri": "https://localhost:8080/"
        },
        "id": "x1aHiXU6Idvy",
        "outputId": "35eca0ac-c6f9-4d16-bd94-5310925fdba5"
      },
      "outputs": [
        {
          "output_type": "execute_result",
          "data": {
            "text/plain": [
              "4"
            ]
          },
          "metadata": {},
          "execution_count": 67
        }
      ],
      "source": [
        "len(l)"
      ]
    },
    {
      "cell_type": "markdown",
      "metadata": {
        "id": "k5b4smDnIdvy"
      },
      "source": [
        "### Indexing and Slicing\n",
        "Indexing and slicing of lists works just like in Strings. Let's make a new list to remind ourselves of how this works:"
      ]
    },
    {
      "cell_type": "code",
      "execution_count": 68,
      "metadata": {
        "id": "HmN_ehWEIdvy"
      },
      "outputs": [],
      "source": [
        "l=['one','two','three',4,5]"
      ]
    },
    {
      "cell_type": "code",
      "execution_count": 69,
      "metadata": {
        "colab": {
          "base_uri": "https://localhost:8080/",
          "height": 35
        },
        "id": "gAq7WfHBIdvy",
        "outputId": "865880ea-d8dd-47af-f4dc-ca84862f154f"
      },
      "outputs": [
        {
          "output_type": "execute_result",
          "data": {
            "text/plain": [
              "'one'"
            ],
            "application/vnd.google.colaboratory.intrinsic+json": {
              "type": "string"
            }
          },
          "metadata": {},
          "execution_count": 69
        }
      ],
      "source": [
        "# Grab element at index 0\n",
        "l[0]"
      ]
    },
    {
      "cell_type": "code",
      "execution_count": 70,
      "metadata": {
        "colab": {
          "base_uri": "https://localhost:8080/"
        },
        "id": "ZMJTtL2YIdvy",
        "outputId": "14d5267e-2df9-4748-e9ca-341afa172ab0"
      },
      "outputs": [
        {
          "output_type": "execute_result",
          "data": {
            "text/plain": [
              "['two', 'three', 4, 5]"
            ]
          },
          "metadata": {},
          "execution_count": 70
        }
      ],
      "source": [
        "# Grab index 1 and everything past it\n",
        "l[1:]"
      ]
    },
    {
      "cell_type": "code",
      "execution_count": 71,
      "metadata": {
        "colab": {
          "base_uri": "https://localhost:8080/"
        },
        "id": "TRU2vMRaIdvz",
        "outputId": "2bc52137-8449-4a86-9248-fa9443ccc910"
      },
      "outputs": [
        {
          "output_type": "execute_result",
          "data": {
            "text/plain": [
              "['one', 'two', 'three']"
            ]
          },
          "metadata": {},
          "execution_count": 71
        }
      ],
      "source": [
        "# Grab everything UP TO index 3\n",
        "l[:3]"
      ]
    },
    {
      "cell_type": "markdown",
      "metadata": {
        "id": "l6Nv6vYZIdvz"
      },
      "source": [
        "We can also use \"+\" to concatenate lists, just like we did for Strings."
      ]
    },
    {
      "cell_type": "code",
      "execution_count": 72,
      "metadata": {
        "colab": {
          "base_uri": "https://localhost:8080/"
        },
        "id": "Z_maWKxRIdvz",
        "outputId": "69e1750f-617d-40f3-c8e8-e35b4a54afa7"
      },
      "outputs": [
        {
          "output_type": "execute_result",
          "data": {
            "text/plain": [
              "['one', 'two', 'three', 4, 5, 'new item']"
            ]
          },
          "metadata": {},
          "execution_count": 72
        }
      ],
      "source": [
        "l+['new item']"
      ]
    },
    {
      "cell_type": "markdown",
      "metadata": {
        "id": "gct3NY9BIdvz"
      },
      "source": [
        "Note: This doesn't actually change the original list!"
      ]
    },
    {
      "cell_type": "code",
      "execution_count": 74,
      "metadata": {
        "colab": {
          "base_uri": "https://localhost:8080/"
        },
        "id": "k1yckzfAIdvz",
        "outputId": "a5fc09a1-07d3-40f0-9ba5-a9a5cd9e0226"
      },
      "outputs": [
        {
          "output_type": "execute_result",
          "data": {
            "text/plain": [
              "['one', 'two', 'three', 4, 5]"
            ]
          },
          "metadata": {},
          "execution_count": 74
        }
      ],
      "source": [
        "l"
      ]
    },
    {
      "cell_type": "markdown",
      "metadata": {
        "id": "b7j85Q-3Idvz"
      },
      "source": [
        "In this case, you have to reassign the list to make the permanent change."
      ]
    },
    {
      "cell_type": "code",
      "execution_count": 75,
      "metadata": {
        "id": "L5Vn_pkhIdv0"
      },
      "outputs": [],
      "source": [
        "# Reassign\n",
        "l=l+['add new item permanently']"
      ]
    },
    {
      "cell_type": "code",
      "execution_count": 76,
      "metadata": {
        "colab": {
          "base_uri": "https://localhost:8080/"
        },
        "id": "7UESXgCVIdv0",
        "outputId": "5d556a11-747b-4c26-9a41-789ed7d7a279"
      },
      "outputs": [
        {
          "output_type": "execute_result",
          "data": {
            "text/plain": [
              "['one', 'two', 'three', 4, 5, 'add new item permanently']"
            ]
          },
          "metadata": {},
          "execution_count": 76
        }
      ],
      "source": [
        "l"
      ]
    },
    {
      "cell_type": "markdown",
      "metadata": {
        "id": "UDOOJ2-uIdv0"
      },
      "source": [
        "We can also use the * for a duplication method similar to strings:"
      ]
    },
    {
      "cell_type": "code",
      "execution_count": 77,
      "metadata": {
        "colab": {
          "base_uri": "https://localhost:8080/"
        },
        "id": "VA0KTjqPIdv0",
        "outputId": "bbbcf731-dcdb-41a9-ab9b-7ad9683b910f"
      },
      "outputs": [
        {
          "output_type": "execute_result",
          "data": {
            "text/plain": [
              "['one',\n",
              " 'two',\n",
              " 'three',\n",
              " 4,\n",
              " 5,\n",
              " 'add new item permanently',\n",
              " 'one',\n",
              " 'two',\n",
              " 'three',\n",
              " 4,\n",
              " 5,\n",
              " 'add new item permanently']"
            ]
          },
          "metadata": {},
          "execution_count": 77
        }
      ],
      "source": [
        "# Make the list double\n",
        "l*2"
      ]
    },
    {
      "cell_type": "code",
      "execution_count": 78,
      "metadata": {
        "colab": {
          "base_uri": "https://localhost:8080/"
        },
        "id": "DezmXct4Idv1",
        "outputId": "f594ddca-7bcf-4152-9ab3-432698dd4eab"
      },
      "outputs": [
        {
          "output_type": "execute_result",
          "data": {
            "text/plain": [
              "['one', 'two', 'three', 4, 5, 'add new item permanently']"
            ]
          },
          "metadata": {},
          "execution_count": 78
        }
      ],
      "source": [
        "# Again doubling not permanent\n",
        "l"
      ]
    },
    {
      "cell_type": "markdown",
      "metadata": {
        "id": "G9fEWZj3Idv1"
      },
      "source": [
        "## Basic List Methods\n",
        "\n",
        "If you are familiar with another programming language, start to draw parallels between lists in Python and arrays in other language. There are two reasons which tells why the lists in Python are more flexible than arrays in other programming language:\n",
        "\n",
        "a. They have no fixed size (which means we need not to specify how big the list will be)\n",
        "b. They have no fixed type constraint \n",
        "\n",
        "Let's go ahead and explore some more special methods for lists:"
      ]
    },
    {
      "cell_type": "code",
      "execution_count": 79,
      "metadata": {
        "id": "KWVdPubXIdv1"
      },
      "outputs": [],
      "source": [
        "# Create a new list\n",
        "l=[1,2,3]"
      ]
    },
    {
      "cell_type": "markdown",
      "metadata": {
        "id": "YqqigzXzIdv2"
      },
      "source": [
        "Use the **append** method to permanently add an item to the end of a list:"
      ]
    },
    {
      "cell_type": "code",
      "execution_count": 80,
      "metadata": {
        "id": "Y4B0zucUIdv2"
      },
      "outputs": [],
      "source": [
        "# Append\n",
        "l.append('append me!')"
      ]
    },
    {
      "cell_type": "code",
      "execution_count": 81,
      "metadata": {
        "colab": {
          "base_uri": "https://localhost:8080/"
        },
        "id": "3ideP-saIdv2",
        "outputId": "1b849e0b-4ef1-4d6f-beab-9b61a12d3329"
      },
      "outputs": [
        {
          "output_type": "execute_result",
          "data": {
            "text/plain": [
              "[1, 2, 3, 'append me!']"
            ]
          },
          "metadata": {},
          "execution_count": 81
        }
      ],
      "source": [
        "# Show\n",
        "l"
      ]
    },
    {
      "cell_type": "markdown",
      "metadata": {
        "id": "GIy_rCi_Idv3"
      },
      "source": [
        "Use **pop** to \"pop off\" an item from the list. By default pop takes off the last index, but you can also specify which index to pop off. Let's see an example:"
      ]
    },
    {
      "cell_type": "code",
      "execution_count": 82,
      "metadata": {
        "colab": {
          "base_uri": "https://localhost:8080/"
        },
        "id": "kO4MxbdsIdv3",
        "outputId": "ea5e929a-2fc0-4632-8cca-364003a2a108"
      },
      "outputs": [
        {
          "output_type": "execute_result",
          "data": {
            "text/plain": [
              "1"
            ]
          },
          "metadata": {},
          "execution_count": 82
        }
      ],
      "source": [
        "# Pop off the 0 indexed item\n",
        "l.pop(0)"
      ]
    },
    {
      "cell_type": "code",
      "execution_count": 83,
      "metadata": {
        "colab": {
          "base_uri": "https://localhost:8080/"
        },
        "id": "idZFBRyeIdv4",
        "outputId": "ec504d66-2dc1-4553-f008-ab022c08868a"
      },
      "outputs": [
        {
          "output_type": "execute_result",
          "data": {
            "text/plain": [
              "[2, 3, 'append me!']"
            ]
          },
          "metadata": {},
          "execution_count": 83
        }
      ],
      "source": [
        "# Show\n",
        "l"
      ]
    },
    {
      "cell_type": "code",
      "execution_count": 84,
      "metadata": {
        "id": "cbnK4XcFIdv4"
      },
      "outputs": [],
      "source": [
        "# Assign the popped element, remember default popped index is -1\n",
        "popped_item=l.pop()"
      ]
    },
    {
      "cell_type": "code",
      "execution_count": 85,
      "metadata": {
        "colab": {
          "base_uri": "https://localhost:8080/",
          "height": 35
        },
        "id": "v4gML761Idv4",
        "outputId": "c6f208c8-3cb5-4103-cf35-30a9c2344c1c"
      },
      "outputs": [
        {
          "output_type": "execute_result",
          "data": {
            "text/plain": [
              "'append me!'"
            ],
            "application/vnd.google.colaboratory.intrinsic+json": {
              "type": "string"
            }
          },
          "metadata": {},
          "execution_count": 85
        }
      ],
      "source": [
        "popped_item"
      ]
    },
    {
      "cell_type": "code",
      "execution_count": 86,
      "metadata": {
        "colab": {
          "base_uri": "https://localhost:8080/"
        },
        "id": "Ky3rgBVAIdv5",
        "outputId": "3b64ff9f-b53b-4658-8d6a-28fe2a86253b"
      },
      "outputs": [
        {
          "output_type": "execute_result",
          "data": {
            "text/plain": [
              "[2, 3]"
            ]
          },
          "metadata": {},
          "execution_count": 86
        }
      ],
      "source": [
        "# Show remaining list\n",
        "l"
      ]
    },
    {
      "cell_type": "markdown",
      "metadata": {
        "id": "rKDF6KKCIdv5"
      },
      "source": [
        "Note that lists indexing will return an error if there is no element at that index. For example:"
      ]
    },
    {
      "cell_type": "code",
      "execution_count": 87,
      "metadata": {
        "colab": {
          "base_uri": "https://localhost:8080/",
          "height": 165
        },
        "id": "_7kZDha9Idv5",
        "outputId": "57c6083a-e2cc-4981-c329-0d502c982d82"
      },
      "outputs": [
        {
          "output_type": "error",
          "ename": "IndexError",
          "evalue": "ignored",
          "traceback": [
            "\u001b[0;31m---------------------------------------------------------------------------\u001b[0m",
            "\u001b[0;31mIndexError\u001b[0m                                Traceback (most recent call last)",
            "\u001b[0;32m<ipython-input-87-e2a0c2623844>\u001b[0m in \u001b[0;36m<cell line: 1>\u001b[0;34m()\u001b[0m\n\u001b[0;32m----> 1\u001b[0;31m \u001b[0ml\u001b[0m\u001b[0;34m[\u001b[0m\u001b[0;36m100\u001b[0m\u001b[0;34m]\u001b[0m\u001b[0;34m\u001b[0m\u001b[0;34m\u001b[0m\u001b[0m\n\u001b[0m",
            "\u001b[0;31mIndexError\u001b[0m: list index out of range"
          ]
        }
      ],
      "source": [
        "l[100]"
      ]
    },
    {
      "cell_type": "markdown",
      "metadata": {
        "id": "lD_NoT82Idv5"
      },
      "source": [
        "We can use the **sort** method and the **reverse** methods to also effect your lists:"
      ]
    },
    {
      "cell_type": "code",
      "execution_count": 88,
      "metadata": {
        "id": "rOXz18TFIdv5"
      },
      "outputs": [],
      "source": [
        "l1=['a','e','x','b','c']"
      ]
    },
    {
      "cell_type": "code",
      "execution_count": 89,
      "metadata": {
        "colab": {
          "base_uri": "https://localhost:8080/"
        },
        "id": "DUwY2zpCIdv5",
        "outputId": "af6dfb7a-1afa-4aad-ef3d-83bcd8a83d4b"
      },
      "outputs": [
        {
          "output_type": "execute_result",
          "data": {
            "text/plain": [
              "['a', 'e', 'x', 'b', 'c']"
            ]
          },
          "metadata": {},
          "execution_count": 89
        }
      ],
      "source": [
        "#Show\n",
        "l1"
      ]
    },
    {
      "cell_type": "code",
      "execution_count": 90,
      "metadata": {
        "id": "f-GSTdq6Idv6"
      },
      "outputs": [],
      "source": [
        "# Use reverse to reverse order (this is permanent!)\n",
        "l1.reverse()"
      ]
    },
    {
      "cell_type": "code",
      "execution_count": 91,
      "metadata": {
        "colab": {
          "base_uri": "https://localhost:8080/"
        },
        "id": "dcacPUURIdv6",
        "outputId": "42cd2aeb-db81-4aec-fa86-653cc2b61c28"
      },
      "outputs": [
        {
          "output_type": "execute_result",
          "data": {
            "text/plain": [
              "['c', 'b', 'x', 'e', 'a']"
            ]
          },
          "metadata": {},
          "execution_count": 91
        }
      ],
      "source": [
        "l1"
      ]
    },
    {
      "cell_type": "code",
      "execution_count": 96,
      "metadata": {
        "id": "e47uVGJ8Idv6"
      },
      "outputs": [],
      "source": [
        "# Use sort to sort the list (in this case alphabetical order, but for numbers it will go ascending)\n",
        "l1.sort()"
      ]
    },
    {
      "cell_type": "code",
      "execution_count": 97,
      "metadata": {
        "colab": {
          "base_uri": "https://localhost:8080/"
        },
        "id": "53XdanH2Idv6",
        "outputId": "5f156288-afaa-47eb-de49-c96707874f83"
      },
      "outputs": [
        {
          "output_type": "execute_result",
          "data": {
            "text/plain": [
              "['a', 'b', 'c', 'e', 'x']"
            ]
          },
          "metadata": {},
          "execution_count": 97
        }
      ],
      "source": [
        "l1"
      ]
    },
    {
      "cell_type": "markdown",
      "metadata": {
        "id": "9UCmlpvEIdv6"
      },
      "source": [
        "## Nesting Lists\n",
        "\n",
        "Nesting Lists is one of the great features in Python data structures. Nesting Lists means we can have data structures within data structures. \n",
        "\n",
        "For example: A list inside a list.\n",
        "\n",
        "Let's see how Nesting lists works!"
      ]
    },
    {
      "cell_type": "code",
      "execution_count": 99,
      "metadata": {
        "id": "Sb_0wa70Idv6"
      },
      "outputs": [],
      "source": [
        "# Let's make three lists\n",
        "l1=[1,2,3]\n",
        "l2=[4,5,6]\n",
        "l3=[7,8,9]\n",
        "# Make a list of lists to form a matrix\n",
        "matrix=[l1,l2,l3]"
      ]
    },
    {
      "cell_type": "code",
      "execution_count": 100,
      "metadata": {
        "colab": {
          "base_uri": "https://localhost:8080/"
        },
        "id": "snyFh81nIdv7",
        "outputId": "88389f2b-8328-49e5-8ad6-a48bdab7999c"
      },
      "outputs": [
        {
          "output_type": "execute_result",
          "data": {
            "text/plain": [
              "[[1, 2, 3], [4, 5, 6], [7, 8, 9]]"
            ]
          },
          "metadata": {},
          "execution_count": 100
        }
      ],
      "source": [
        "# Show\n",
        "matrix"
      ]
    },
    {
      "cell_type": "markdown",
      "metadata": {
        "id": "dpCK30pVIdv7"
      },
      "source": [
        "We can re-use indexing to grab elements, but now there are two levels for the index. \n",
        "\n",
        "a. The items in the matrix object\n",
        "b. The items inside the list"
      ]
    },
    {
      "cell_type": "code",
      "execution_count": 101,
      "metadata": {
        "colab": {
          "base_uri": "https://localhost:8080/"
        },
        "id": "qoAV-FTgIdv7",
        "outputId": "e425af4f-b704-4494-da5e-db01bb1b7ca4"
      },
      "outputs": [
        {
          "output_type": "execute_result",
          "data": {
            "text/plain": [
              "[1, 2, 3]"
            ]
          },
          "metadata": {},
          "execution_count": 101
        }
      ],
      "source": [
        "# Grab first item in matrix object\n",
        "matrix[0]"
      ]
    },
    {
      "cell_type": "code",
      "execution_count": 102,
      "metadata": {
        "colab": {
          "base_uri": "https://localhost:8080/"
        },
        "id": "TY2zRukaIdv7",
        "outputId": "97075457-35bb-499f-cf7b-663e1044d789"
      },
      "outputs": [
        {
          "output_type": "execute_result",
          "data": {
            "text/plain": [
              "1"
            ]
          },
          "metadata": {},
          "execution_count": 102
        }
      ],
      "source": [
        "# Grab first item of the first item in the matrix object\n",
        "matrix[0][0]"
      ]
    },
    {
      "cell_type": "markdown",
      "metadata": {
        "id": "Sos_4OyfIdv8"
      },
      "source": [
        "# List Comprehensions\n",
        "\n",
        "Python has an advanced feature called list comprehensions which allows for quick construction of lists. \n",
        "\n",
        "Before we try to understand list comprehensions completely we need to understand \"for\" loops. \n",
        "\n",
        "So don't worry if you don't completely understand this section, and feel free to just skip it since we will return to this topic later.\n",
        "\n",
        "Here are few of oue examples which helps you to understand list comprehensions. "
      ]
    },
    {
      "cell_type": "code",
      "execution_count": 103,
      "metadata": {
        "id": "13spFuoYIdv9"
      },
      "outputs": [],
      "source": [
        "# Build a list comprehension by deconstructing a for loop within a []\n",
        "first_col=[row[0] for row in matrix]"
      ]
    },
    {
      "cell_type": "code",
      "execution_count": 104,
      "metadata": {
        "colab": {
          "base_uri": "https://localhost:8080/"
        },
        "id": "N27HEqwOIdv-",
        "outputId": "4b82ec44-0e53-44e6-9297-727fbea98ca0"
      },
      "outputs": [
        {
          "output_type": "execute_result",
          "data": {
            "text/plain": [
              "[1, 4, 7]"
            ]
          },
          "metadata": {},
          "execution_count": 104
        }
      ],
      "source": [
        "first_col"
      ]
    },
    {
      "cell_type": "markdown",
      "metadata": {
        "id": "Wug0TCBvIdv-"
      },
      "source": [
        "# Advanced Lists\n",
        "\n",
        "In this series of lectures, we will be diving a little deeper into all the available methods in a list object. These are just methods that should encountered without some additional exploring. Its pretty likely that you've already encountered some of these yourself!\n",
        "\n",
        "Lets begin!"
      ]
    },
    {
      "cell_type": "code",
      "execution_count": 108,
      "metadata": {
        "id": "xog33F5lIdv-"
      },
      "outputs": [],
      "source": [
        "l=[1,2,3]"
      ]
    },
    {
      "cell_type": "markdown",
      "metadata": {
        "id": "UDquG2k9Idv_"
      },
      "source": [
        "## append\n",
        "\n",
        "Definitely, You have used this method by now, which merely appends an element to the end of a list:"
      ]
    },
    {
      "cell_type": "code",
      "execution_count": 109,
      "metadata": {
        "colab": {
          "base_uri": "https://localhost:8080/"
        },
        "id": "jCVYHkRuIdv_",
        "outputId": "db92839a-7173-45cd-c198-c54be598a1dd"
      },
      "outputs": [
        {
          "output_type": "execute_result",
          "data": {
            "text/plain": [
              "[1, 2, 3, 4]"
            ]
          },
          "metadata": {},
          "execution_count": 109
        }
      ],
      "source": [
        "l.append(4)\n",
        "l"
      ]
    },
    {
      "cell_type": "markdown",
      "metadata": {
        "id": "9uYmNeUpIdv_"
      },
      "source": [
        "## count\n",
        "We discussed this during the methods lectures, but here it is again. count() takes in an element and returns the number of times it occures in your list:"
      ]
    },
    {
      "cell_type": "code",
      "execution_count": 110,
      "metadata": {
        "colab": {
          "base_uri": "https://localhost:8080/"
        },
        "id": "C_6JCD6gIdwA",
        "outputId": "ca39bd3f-8b48-439e-9cc0-0b1102068472"
      },
      "outputs": [
        {
          "output_type": "execute_result",
          "data": {
            "text/plain": [
              "0"
            ]
          },
          "metadata": {},
          "execution_count": 110
        }
      ],
      "source": [
        "l.count(10)"
      ]
    },
    {
      "cell_type": "code",
      "execution_count": 111,
      "metadata": {
        "colab": {
          "base_uri": "https://localhost:8080/"
        },
        "id": "cJAdl5TOIdwA",
        "outputId": "660333fa-4a14-40f6-d6ca-084f77f0e973"
      },
      "outputs": [
        {
          "output_type": "execute_result",
          "data": {
            "text/plain": [
              "1"
            ]
          },
          "metadata": {},
          "execution_count": 111
        }
      ],
      "source": [
        "l.count(2)"
      ]
    },
    {
      "cell_type": "markdown",
      "metadata": {
        "id": "bNAlTU3GIdwA"
      },
      "source": [
        "## extend\n",
        "Many times people find the difference between extend and append to be unclear. So note that,\n",
        "\n",
        "**append: Appends object at end**"
      ]
    },
    {
      "cell_type": "code",
      "execution_count": 113,
      "metadata": {
        "colab": {
          "base_uri": "https://localhost:8080/"
        },
        "id": "4Lyh5DULIdwA",
        "outputId": "629593f2-284e-42a8-98ba-60702fb93964"
      },
      "outputs": [
        {
          "output_type": "stream",
          "name": "stdout",
          "text": [
            "[1, 2, 3, [4, 5]]\n"
          ]
        }
      ],
      "source": [
        "x=[1,2,3]\n",
        "x.append([4,5])\n",
        "print(x)"
      ]
    },
    {
      "cell_type": "markdown",
      "metadata": {
        "id": "__-81uLmIdwB"
      },
      "source": [
        "**extend: extends list by appending elements from the iterable**"
      ]
    },
    {
      "cell_type": "code",
      "execution_count": 114,
      "metadata": {
        "colab": {
          "base_uri": "https://localhost:8080/"
        },
        "id": "eGbEpqruIdwB",
        "outputId": "e714d863-71c1-4b09-ed06-f2ceb7225ed1"
      },
      "outputs": [
        {
          "output_type": "stream",
          "name": "stdout",
          "text": [
            "[1, 2, 3, 4, 5]\n"
          ]
        }
      ],
      "source": [
        "x=[1,2,3]\n",
        "x.extend([4,5])\n",
        "print(x)"
      ]
    },
    {
      "cell_type": "markdown",
      "metadata": {
        "id": "1URGzvbDIdwB"
      },
      "source": [
        "Note how extend append each element in that iterable. That is the key difference."
      ]
    },
    {
      "cell_type": "markdown",
      "metadata": {
        "id": "YqmceFJDIdwC"
      },
      "source": [
        "## index\n",
        "\n",
        "index returns the element placed as an argument. Make a note that if the element is not in the list then it returns an error.\n"
      ]
    },
    {
      "cell_type": "code",
      "execution_count": 115,
      "metadata": {
        "colab": {
          "base_uri": "https://localhost:8080/"
        },
        "id": "W3Wv4j7RIdwC",
        "outputId": "7d25f1b0-c4f2-4e48-d538-5bd7ed9e2d15"
      },
      "outputs": [
        {
          "output_type": "stream",
          "name": "stdout",
          "text": [
            "[1, 2, 3, 4]\n"
          ]
        },
        {
          "output_type": "execute_result",
          "data": {
            "text/plain": [
              "1"
            ]
          },
          "metadata": {},
          "execution_count": 115
        }
      ],
      "source": [
        "print(l)\n",
        "l.index(2)"
      ]
    },
    {
      "cell_type": "code",
      "execution_count": 116,
      "metadata": {
        "colab": {
          "base_uri": "https://localhost:8080/",
          "height": 165
        },
        "id": "yP7MxKwNIdwC",
        "outputId": "30129b91-afc1-4c00-ca46-c204021bbafb"
      },
      "outputs": [
        {
          "output_type": "error",
          "ename": "ValueError",
          "evalue": "ignored",
          "traceback": [
            "\u001b[0;31m---------------------------------------------------------------------------\u001b[0m",
            "\u001b[0;31mValueError\u001b[0m                                Traceback (most recent call last)",
            "\u001b[0;32m<ipython-input-116-da9218b18168>\u001b[0m in \u001b[0;36m<cell line: 1>\u001b[0;34m()\u001b[0m\n\u001b[0;32m----> 1\u001b[0;31m \u001b[0ml\u001b[0m\u001b[0;34m.\u001b[0m\u001b[0mindex\u001b[0m\u001b[0;34m(\u001b[0m\u001b[0;36m12\u001b[0m\u001b[0;34m)\u001b[0m\u001b[0;34m\u001b[0m\u001b[0;34m\u001b[0m\u001b[0m\n\u001b[0m",
            "\u001b[0;31mValueError\u001b[0m: 12 is not in list"
          ]
        }
      ],
      "source": [
        "l.index(12)"
      ]
    },
    {
      "cell_type": "markdown",
      "metadata": {
        "id": "lzaEsGIdIdwC"
      },
      "source": [
        "## insert \n",
        "\n",
        "Two arguments can be placed in insert method. \n",
        "\n",
        "Syntax: insert(index,object) \n",
        "\n",
        "This method places the object at the index supplied. For example:"
      ]
    },
    {
      "cell_type": "code",
      "execution_count": 117,
      "metadata": {
        "colab": {
          "base_uri": "https://localhost:8080/"
        },
        "id": "uj2ZUztJIdwD",
        "outputId": "31bfcc19-0b26-4713-e0f1-66f1db3b981b"
      },
      "outputs": [
        {
          "output_type": "execute_result",
          "data": {
            "text/plain": [
              "[1, 2, 3, 4]"
            ]
          },
          "metadata": {},
          "execution_count": 117
        }
      ],
      "source": [
        "l"
      ]
    },
    {
      "cell_type": "code",
      "execution_count": 118,
      "metadata": {
        "id": "3DVLQV8IIdwD"
      },
      "outputs": [],
      "source": [
        "# Place a letter at the index 2\n",
        "l.insert(2, 'inserted')"
      ]
    },
    {
      "cell_type": "code",
      "execution_count": 119,
      "metadata": {
        "colab": {
          "base_uri": "https://localhost:8080/"
        },
        "id": "ZqG-drzqIdwD",
        "outputId": "655a8e33-483c-49ee-a3f6-d20e31982b2d"
      },
      "outputs": [
        {
          "output_type": "execute_result",
          "data": {
            "text/plain": [
              "[1, 2, 'inserted', 3, 4]"
            ]
          },
          "metadata": {},
          "execution_count": 119
        }
      ],
      "source": [
        "l"
      ]
    },
    {
      "cell_type": "markdown",
      "metadata": {
        "id": "0m1j38B9IdwD"
      },
      "source": [
        "## pop\n",
        "You most likely have already seen pop(), which allows us to \"pop\" off the last element of a list. "
      ]
    },
    {
      "cell_type": "code",
      "execution_count": 120,
      "metadata": {
        "id": "8IVM4P9jIdwE"
      },
      "outputs": [],
      "source": [
        "ele=l.pop()"
      ]
    },
    {
      "cell_type": "code",
      "execution_count": 121,
      "metadata": {
        "colab": {
          "base_uri": "https://localhost:8080/"
        },
        "id": "EzLrTPX5IdwE",
        "outputId": "bd3ffeab-5d2a-4703-f6fe-f61ed4849d27"
      },
      "outputs": [
        {
          "output_type": "execute_result",
          "data": {
            "text/plain": [
              "[1, 2, 'inserted', 3]"
            ]
          },
          "metadata": {},
          "execution_count": 121
        }
      ],
      "source": [
        "l"
      ]
    },
    {
      "cell_type": "code",
      "execution_count": 122,
      "metadata": {
        "colab": {
          "base_uri": "https://localhost:8080/"
        },
        "id": "HxwKwBnzIdwE",
        "outputId": "c49f6388-89b2-4126-dbb6-39ee94063216"
      },
      "outputs": [
        {
          "output_type": "execute_result",
          "data": {
            "text/plain": [
              "4"
            ]
          },
          "metadata": {},
          "execution_count": 122
        }
      ],
      "source": [
        "ele"
      ]
    },
    {
      "cell_type": "markdown",
      "metadata": {
        "id": "XdcllmoCIdwF"
      },
      "source": [
        "## remove\n",
        "The remove() method removes the first occurrence of a value. For example:"
      ]
    },
    {
      "cell_type": "code",
      "execution_count": 123,
      "metadata": {
        "colab": {
          "base_uri": "https://localhost:8080/"
        },
        "id": "ZfdIlOE1IdwF",
        "outputId": "641304ff-e069-4768-8fb6-e717b01483aa"
      },
      "outputs": [
        {
          "output_type": "execute_result",
          "data": {
            "text/plain": [
              "[1, 2, 'inserted', 3]"
            ]
          },
          "metadata": {},
          "execution_count": 123
        }
      ],
      "source": [
        "l"
      ]
    },
    {
      "cell_type": "code",
      "execution_count": 124,
      "metadata": {
        "id": "bYQuf_V9IdwF"
      },
      "outputs": [],
      "source": [
        "l.remove('inserted')"
      ]
    },
    {
      "cell_type": "code",
      "execution_count": 125,
      "metadata": {
        "colab": {
          "base_uri": "https://localhost:8080/"
        },
        "id": "GHMpDZMkIdwF",
        "outputId": "9bcfd5d4-52e1-4561-ddda-996cb7a9c4e9"
      },
      "outputs": [
        {
          "output_type": "execute_result",
          "data": {
            "text/plain": [
              "[1, 2, 3]"
            ]
          },
          "metadata": {},
          "execution_count": 125
        }
      ],
      "source": [
        "l"
      ]
    },
    {
      "cell_type": "code",
      "execution_count": 126,
      "metadata": {
        "id": "_KNSE8osIdwG"
      },
      "outputs": [],
      "source": [
        "l=[1,2,3,4,3]"
      ]
    },
    {
      "cell_type": "code",
      "execution_count": 127,
      "metadata": {
        "id": "p3cvFVOnIdwG"
      },
      "outputs": [],
      "source": [
        "l.remove(3)"
      ]
    },
    {
      "cell_type": "code",
      "execution_count": 128,
      "metadata": {
        "colab": {
          "base_uri": "https://localhost:8080/"
        },
        "id": "BKWPJ0NIIdwH",
        "outputId": "bdb48abe-695a-4f30-d9b9-b8823bd2f508"
      },
      "outputs": [
        {
          "output_type": "execute_result",
          "data": {
            "text/plain": [
              "[1, 2, 4, 3]"
            ]
          },
          "metadata": {},
          "execution_count": 128
        }
      ],
      "source": [
        "l"
      ]
    },
    {
      "cell_type": "markdown",
      "metadata": {
        "id": "4xHNB_v5IdwI"
      },
      "source": [
        "## reverse\n",
        "As the name suggests, reverse() helps you to reverse a list. Note this occurs in place! Meaning it effects your list permanently."
      ]
    },
    {
      "cell_type": "code",
      "execution_count": 129,
      "metadata": {
        "id": "Dgm2PKHkIdwI"
      },
      "outputs": [],
      "source": [
        "l.reverse()"
      ]
    },
    {
      "cell_type": "code",
      "execution_count": 130,
      "metadata": {
        "colab": {
          "base_uri": "https://localhost:8080/"
        },
        "id": "25emuwrtIdwI",
        "outputId": "7f324935-2410-40a6-cfb4-009a48d0ab59"
      },
      "outputs": [
        {
          "output_type": "execute_result",
          "data": {
            "text/plain": [
              "[3, 4, 2, 1]"
            ]
          },
          "metadata": {},
          "execution_count": 130
        }
      ],
      "source": [
        "l"
      ]
    },
    {
      "cell_type": "markdown",
      "metadata": {
        "id": "wnxb602cIdwJ"
      },
      "source": [
        "## sort\n",
        "sort will sort your list in place:"
      ]
    },
    {
      "cell_type": "code",
      "execution_count": 131,
      "metadata": {
        "colab": {
          "base_uri": "https://localhost:8080/"
        },
        "id": "7UJC-heAIdwJ",
        "outputId": "fc0ec2e1-0394-4bb4-b9ce-4df36f4168fd"
      },
      "outputs": [
        {
          "output_type": "execute_result",
          "data": {
            "text/plain": [
              "[3, 4, 2, 1]"
            ]
          },
          "metadata": {},
          "execution_count": 131
        }
      ],
      "source": [
        "l"
      ]
    },
    {
      "cell_type": "code",
      "execution_count": 132,
      "metadata": {
        "id": "oSIC74hYIdwJ"
      },
      "outputs": [],
      "source": [
        "l.sort()"
      ]
    },
    {
      "cell_type": "code",
      "execution_count": 133,
      "metadata": {
        "colab": {
          "base_uri": "https://localhost:8080/"
        },
        "id": "e9uFyrbWIdwJ",
        "outputId": "1704060e-90cc-4723-aee3-c2868f8c3c52"
      },
      "outputs": [
        {
          "output_type": "execute_result",
          "data": {
            "text/plain": [
              "[1, 2, 3, 4]"
            ]
          },
          "metadata": {},
          "execution_count": 133
        }
      ],
      "source": [
        "l"
      ]
    },
    {
      "cell_type": "code",
      "execution_count": null,
      "metadata": {
        "id": "2D4w3EkBIdwJ"
      },
      "outputs": [],
      "source": []
    }
  ],
  "metadata": {
    "kernelspec": {
      "display_name": "Python 3",
      "language": "python",
      "name": "python3"
    },
    "language_info": {
      "codemirror_mode": {
        "name": "ipython",
        "version": 3
      },
      "file_extension": ".py",
      "mimetype": "text/x-python",
      "name": "python",
      "nbconvert_exporter": "python",
      "pygments_lexer": "ipython3",
      "version": "3.7.3"
    },
    "colab": {
      "provenance": []
    }
  },
  "nbformat": 4,
  "nbformat_minor": 0
}