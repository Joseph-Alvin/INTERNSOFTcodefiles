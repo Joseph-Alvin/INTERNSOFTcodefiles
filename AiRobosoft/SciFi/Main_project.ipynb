{
 "cells": [
  {
   "cell_type": "code",
   "execution_count": 2,
   "metadata": {},
   "outputs": [],
   "source": [
    "import os\n",
    "import time\n",
    "import subprocess\n",
    "import json"
   ]
  },
  {
   "cell_type": "code",
   "execution_count": 3,
   "metadata": {},
   "outputs": [],
   "source": [
    "import wolframalpha\n",
    "import requests\n",
    "import webbrowser\n",
    "import wikipedia\n",
    "import datetime"
   ]
  },
  {
   "cell_type": "code",
   "execution_count": 4,
   "metadata": {},
   "outputs": [],
   "source": [
    "import speech_recognition as sr\n",
    "import pyttsx3"
   ]
  },
  {
   "cell_type": "code",
   "execution_count": 5,
   "metadata": {},
   "outputs": [
    {
     "name": "stdout",
     "output_type": "stream",
     "text": [
      "LOADING YOUR PERSONAL ASSISTANT JARVIS\n"
     ]
    }
   ],
   "source": [
    "print('LOADING YOUR PERSONAL ASSISTANT JARVIS')"
   ]
  },
  {
   "cell_type": "code",
   "execution_count": 6,
   "metadata": {},
   "outputs": [],
   "source": [
    "engine = pyttsx3.init('sapi5')\n",
    "voices = engine.getProperty('voices')\n",
    "engine.setProperty('voice', 'voices[0].id')"
   ]
  },
  {
   "cell_type": "code",
   "execution_count": 7,
   "metadata": {},
   "outputs": [],
   "source": [
    "def speak(text):\n",
    "    engine.say(text)\n",
    "    engine.runAndWait()"
   ]
  },
  {
   "cell_type": "code",
   "execution_count": 8,
   "metadata": {},
   "outputs": [],
   "source": [
    "def wishMe():\n",
    "    hour = datetime.datetime.now().hour\n",
    "    if hour>=0 and hour<12:\n",
    "        speak('Hello, Good Morning Mr. Joseph')\n",
    "        print('Hello, Good Morning Mr. Joseph')\n",
    "    elif hour>=12 and hour<=18:\n",
    "        speak('Hello, Good Afternoon Mr. Joseph')\n",
    "        print('Hello, Good Afternoon Mr. Joseph')\n",
    "    else:\n",
    "        speak(\"Hello, Good Evening Mr. Joseph\")\n",
    "        print(\"Hello, Good Evening Mr. Joseph\")"
   ]
  },
  {
   "cell_type": "code",
   "execution_count": 9,
   "metadata": {},
   "outputs": [],
   "source": [
    "def takeCommand():\n",
    "    r = sr.Recognizer()\n",
    "    with sr.Microphone() as source:\n",
    "        print(\"I am listening...\")\n",
    "        audio = r.listen(source)\n",
    "\n",
    "        try:\n",
    "            statement = r.recognize_google(audio, language='en-in')\n",
    "            print(f\"User said: {statement}\\n\")\n",
    "\n",
    "        except Exception as e:\n",
    "            speak(\"Pardon me, please say that again\")\n",
    "            return \"None\"\n",
    "        return statement"
   ]
  },
  {
   "cell_type": "code",
   "execution_count": 10,
   "metadata": {},
   "outputs": [
    {
     "name": "stdout",
     "output_type": "stream",
     "text": [
      "Hello, Good Evening Mr. Joseph\n"
     ]
    }
   ],
   "source": [
    "speak('Loading your A.I assistant Jarvis')\n",
    "wishMe()"
   ]
  },
  {
   "cell_type": "code",
   "execution_count": 12,
   "metadata": {},
   "outputs": [
    {
     "name": "stdout",
     "output_type": "stream",
     "text": [
      "Hello, Good Evening Mr. Joseph\n",
      "I am listening...\n",
      "User said: ask\n",
      "\n",
      "I am listening...\n",
      "User said: what is the distance between each of the planets and the sun\n",
      "\n",
      "Sorry i couldnt find what you asked for\n",
      "I am listening...\n",
      "User said: ask\n",
      "\n",
      "I am listening...\n",
      "User said: distance between Earth and Sun\n",
      "\n",
      "1.003 au (astronomical units)\n",
      "I am listening...\n",
      "User said: goodbye\n",
      "\n",
      "Your A.I assistant Jarvis is shutting down, Good bye\n"
     ]
    }
   ],
   "source": [
    "if __name__ == '__main__':\n",
    "    wishMe()\n",
    "    while True:\n",
    "        speak(\"How can i help you?\")\n",
    "        statement = takeCommand().lower()\n",
    "        if statement == 0:\n",
    "            continue\n",
    "        if \"goodbye\" in statement or \"ok bye\" in statement or \"stop\" in statement:\n",
    "            speak(\"Your A.I assistant Jarvis is shutting down, Good bye\")\n",
    "            print(\"Your A.I assistant Jarvis is shutting down, Good bye\")\n",
    "            break\n",
    "\n",
    "        if 'wikipedia' in statement:\n",
    "            speak(\"Searching wikipedia...\")\n",
    "            try:\n",
    "                statement = statement.replace(\"wikipedia\", \" \")\n",
    "                results = wikipedia.summary(statement, sentences = 3)\n",
    "                speak(\"According to wikipedia...\")\n",
    "                print(results)\n",
    "                speak(results)\n",
    "            except:\n",
    "                print(\"Sorry i couldnt find what you asked for\")\n",
    "                speak(\"Sorry i couldnt find what you asked for\")\n",
    "\n",
    "        elif \"open youtube\" in statement:\n",
    "            webbrowser.open_new_tab(\"https://www.youtube.com\")\n",
    "            speak(\"Youtube is open for you\")\n",
    "            time.sleep(5)\n",
    "\n",
    "        elif \"open google\" in statement:\n",
    "            webbrowser.open_new_tab(\"https://www.google.com\")\n",
    "            speak(\"Google search is open for you\")\n",
    "            time.sleep(5)\n",
    "\n",
    "        elif \"open gmail\" in statement:\n",
    "            webbrowser.open_new_tab(\"https://www.gmail.com\")\n",
    "            speak(\"Your gmail is open for you\")\n",
    "            time.sleep(5)\n",
    "\n",
    "        elif \"weather\" in statement:\n",
    "            api_key = \"8ef61edcf1c576d65d836254e11ea420\"\n",
    "            base_url = \"https://api.openweathermap.org/data/2.5/weather?\"\n",
    "            speak(\"Whats the city name\")\n",
    "            city_name = takeCommand()\n",
    "            complete_url = base_url+\"appid=\"+api_key+\"&q=\"+city_name\n",
    "            response = requests.get(complete_url)\n",
    "            x =  response.json()\n",
    "            if x[\"cod\"] != \"404\":\n",
    "                y = x[\"main\"]\n",
    "                current_temperature = y[\"temp\"]\n",
    "                current_humidity = y[\"humidity\"]\n",
    "                z = x[\"weather\"]\n",
    "                weather_description = z[0][\"description\"]\n",
    "                speak(\"The temperature in kelvin units \" + str(current_temperature) +\"\\nHumidity in percentage is \" + str(current_humidity) + \"\\n weather description \" + str(weather_description))\n",
    "                print(\"The temperature in kelvin units \" + str(current_temperature) +\"\\nHumidity in percentage is \" + str(current_humidity) + \"\\n weather description \" + str(weather_description))\n",
    "            else:\n",
    "                speak(\"City not found\")\n",
    "                print(\"City not found\")\n",
    "\n",
    "        elif \"time\" in statement:\n",
    "            strTime = datetime.datetime.now().strftime(\"%H:%M:%S\")\n",
    "            speak(f\"The time is {strTime}\")\n",
    "\n",
    "        elif \"who are you\" in statement or \"what can you do\" in statement:\n",
    "            speak(\"I am Jarvis 1 point O your personal assistant. I am programmed to minor tasks like opening youtube, google chrome, gmail and stack overflow, predict time, take a photo, search wikipedia, predict weather in different cities, get top headline news from Times of India and you can ask me computational or geographical questions too!\")\n",
    "\n",
    "        elif \"who made you\" in statement or \"who created you\" in statement or \"who discovered you\" in statement:\n",
    "            speak(\"I was built by Mr. Joseph Alvin\")\n",
    "            print(\"I was built by Mr. Joseph Alvin\")\n",
    "\n",
    "        elif \"open stack overflow\" in statement:\n",
    "            webbrowser.open_new_tab(\"https://stackoverflow.com\")\n",
    "            time.sleep(5)\n",
    "        \n",
    "        elif \"news\" in statement:\n",
    "            news = webbrowser.open_new_tab(\"https://timesofindia.indiatimes.com/home/headlines\")\n",
    "            speak(\"Here are some headlines for you from Times of India - happy reading\")\n",
    "            time.sleep(5)\n",
    "        \n",
    "        elif \"search\" in statement:\n",
    "            statement = statement.replace(\"search\", \" \")\n",
    "            webbrowser.open_new_tab(\"https://www.google.com/search?q=\"+statement)\n",
    "            time.sleep(5)\n",
    "\n",
    "        elif \"ask\" in statement:\n",
    "            question = takeCommand()\n",
    "            app_id = \"R2K75H-7ELALHR35X\"\n",
    "            client = wolframalpha.Client(app_id)\n",
    "            try:\n",
    "                res = client.query(question)\n",
    "                answer = next(res.results).text\n",
    "                speak(answer)\n",
    "                print(answer)\n",
    "            except:\n",
    "                print(\"Sorry i couldnt find what you asked for\")\n",
    "                speak(\"Sorry i couldnt find what you asked for\")\n",
    "\n",
    "        elif \"log off\" in statement or \"sign out\" in statement or \"shut down\" in statement:\n",
    "            speak(\"Ok, your PC will be shut down in 10 seconds - make sure you have saved and exited from all applications\")\n",
    "            subprocess.call(['shutdown',\"/1\"])\n",
    "\n",
    "    time.sleep(3)\n",
    "\n",
    "\n"
   ]
  },
  {
   "cell_type": "code",
   "execution_count": null,
   "metadata": {},
   "outputs": [],
   "source": []
  }
 ],
 "metadata": {
  "kernelspec": {
   "display_name": "Python 3",
   "language": "python",
   "name": "python3"
  },
  "language_info": {
   "codemirror_mode": {
    "name": "ipython",
    "version": 3
   },
   "file_extension": ".py",
   "mimetype": "text/x-python",
   "name": "python",
   "nbconvert_exporter": "python",
   "pygments_lexer": "ipython3",
   "version": "3.10.4"
  },
  "orig_nbformat": 4
 },
 "nbformat": 4,
 "nbformat_minor": 2
}
